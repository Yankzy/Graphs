{
 "cells": [
  {
   "cell_type": "markdown",
   "id": "39c7745b",
   "metadata": {},
   "source": [
    "\n",
    " BINARY TREE INORDER TRAVERSAL"
   ]
  },
  {
   "cell_type": "code",
   "execution_count": 3,
   "id": "d6a192ae",
   "metadata": {},
   "outputs": [],
   "source": [
    "# Data structure to store a binary tree node\n",
    "class Node:\n",
    "    def __init__(self, data=None, left=None, right=None):\n",
    "        self.data = data\n",
    "        self.left = left\n",
    "        self.right = right"
   ]
  },
  {
   "cell_type": "code",
   "execution_count": 13,
   "id": "9eea72eb",
   "metadata": {},
   "outputs": [
    {
     "name": "stdout",
     "output_type": "stream",
     "text": [
      "4 2 1 7 5 8 3 6 "
     ]
    }
   ],
   "source": [
    "def inorder(root):\n",
    "    if root is None:\n",
    "        return\n",
    "    \n",
    "    inorder(root.left)\n",
    "    print(root.data, end=' ')\n",
    "    inorder(root.right)\n",
    "    \n",
    "    \n",
    " \n",
    "# if __name__ == '__main__':\n",
    " \n",
    "    ''' Construct the following tree\n",
    "               1\n",
    "             /   \\\n",
    "            /     \\\n",
    "           2       3\n",
    "          /      /   \\\n",
    "         /      /     \\\n",
    "        4      5       6\n",
    "              / \\\n",
    "             /   \\\n",
    "            7     8\n",
    "    '''\n",
    "\n",
    "root = Node(1)\n",
    "root.left = Node(2)\n",
    "root.right = Node(3)\n",
    "root.left.left = Node(4)\n",
    "root.right.left = Node(5)\n",
    "root.right.right = Node(6)\n",
    "root.right.left.left = Node(7)\n",
    "root.right.left.right = Node(8)\n",
    "\n",
    "inorder(root)\n"
   ]
  },
  {
   "cell_type": "code",
   "execution_count": null,
   "id": "1a2256c2",
   "metadata": {},
   "outputs": [],
   "source": []
  }
 ],
 "metadata": {
  "kernelspec": {
   "display_name": "Python 3 (ipykernel)",
   "language": "python",
   "name": "python3"
  },
  "language_info": {
   "codemirror_mode": {
    "name": "ipython",
    "version": 3
   },
   "file_extension": ".py",
   "mimetype": "text/x-python",
   "name": "python",
   "nbconvert_exporter": "python",
   "pygments_lexer": "ipython3",
   "version": "3.9.7"
  }
 },
 "nbformat": 4,
 "nbformat_minor": 5
}
